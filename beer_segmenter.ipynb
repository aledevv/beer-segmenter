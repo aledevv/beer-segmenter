{
 "cells": [
  {
   "cell_type": "markdown",
   "metadata": {},
   "source": [
    "# Beer segmenter\n",
    "\n",
    "## Project domain and context\n",
    "The project aims to be a solution based on the filters from a previous project I recently contributed to. The overall project involved the creation of a robotic bar capable of managing the ordering of a certain number of beers, filling up to 4 glasses in parallel, and finally serving them. \n",
    "\n",
    "My task was to create a recognition system to detect the level of beer poured and trigger a signal to the system that controlled the dispenser when a glass was filled. (This task could have been solved without using a visual recognition system since the dispensing pressure was constant, and there was a system responsible for keeping it stable, but apparently, the designer of the robotic bar wanted to do things the hard way...)\n",
    "\n",
    "To do this, I had a camera positioned next to the beer dispenser that allowed me to view the glass from above. Given the position, it was not possible to estimate the volume poured because the view wasn't lateral, so the idea was to segment the foam and interrupt the pouring when the segmented area exceeded a certain threshold.\n",
    "\n",
    "Fortunately, the liquid pressure allowed for a thick foam from start to finish, avoiding gaps where the color of the beer might show. This task was solved using a YOLO-based segmenter fine-tuned to recognize the shape of the beer.\n",
    "\n",
    "## Image processing based solution\n",
    "This notebook presents an image-processing-based solution for the same problem, here are reported the complete workflow to reach a similar solution to the one obtained with AI.\n",
    "\n",
    "## Preview of the solutions"
   ]
  },
  {
   "cell_type": "code",
   "execution_count": null,
   "metadata": {},
   "outputs": [
    {
     "data": {
      "text/html": [
       "\n",
       "<div style=\"display: flex; justify-content: space-between; align-items: flex-start;\">\n",
       "    <div style=\"text-align: center;\">\n",
       "        <h3>AI solution</h3>\n",
       "        <video width=\"100%\" controls>\n",
       "            <source src=\"ai.mp4\" type=\"video/mp4\">\n",
       "            Your browser does not support the video tag.\n",
       "        </video>\n",
       "    </div>\n",
       "    <div style=\"text-align: center;\">\n",
       "        <h3>Image processing solution</h3>\n",
       "        <video width=\"100%\" controls>\n",
       "            <source src=\"out_1.mp4\" type=\"video/mp4\">\n",
       "            Your browser does not support the video tag.\n",
       "        </video>\n",
       "    </div>\n",
       "</div>\n"
      ],
      "text/plain": [
       "<IPython.core.display.HTML object>"
      ]
     },
     "metadata": {},
     "output_type": "display_data"
    }
   ],
   "source": [
    "from IPython.display import display, HTML\n",
    "\n",
    "html_code = '''\n",
    "<div style=\"display: flex; justify-content: space-between; align-items: flex-start;\">\n",
    "    <div style=\"text-align: center;\">\n",
    "        <h3>AI solution</h3>\n",
    "        <video width=\"100%\" controls>\n",
    "            <source src=\"ai.mp4\" type=\"video/mp4\">\n",
    "            Your browser does not support the video tag.\n",
    "        </video>\n",
    "    </div>\n",
    "    <div style=\"text-align: center;\">\n",
    "        <h3>Image processing solution</h3>\n",
    "        <video width=\"100%\" controls>\n",
    "            <source src=\".mp4\" type=\"video/mp4\">\n",
    "            Your browser does not support the video tag.\n",
    "        </video>\n",
    "    </div>\n",
    "</div>\n",
    "'''\n",
    "\n",
    "display(HTML(html_code))\n"
   ]
  },
  {
   "cell_type": "markdown",
   "metadata": {},
   "source": [
    "##"
   ]
  }
 ],
 "metadata": {
  "kernelspec": {
   "display_name": "Python 3",
   "language": "python",
   "name": "python3"
  },
  "language_info": {
   "codemirror_mode": {
    "name": "ipython",
    "version": 3
   },
   "file_extension": ".py",
   "mimetype": "text/x-python",
   "name": "python",
   "nbconvert_exporter": "python",
   "pygments_lexer": "ipython3",
   "version": "3.12.3"
  }
 },
 "nbformat": 4,
 "nbformat_minor": 2
}
